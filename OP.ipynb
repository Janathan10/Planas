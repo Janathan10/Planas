{
 "cells": [
  {
   "cell_type": "markdown",
   "metadata": {},
   "source": [
    "# Lendo Biblioteca Pandas"
   ]
  },
  {
   "cell_type": "code",
   "execution_count": 1,
   "metadata": {},
   "outputs": [],
   "source": [
    "import h5py\n",
    "import numpy as np\n",
    "from sklearn.tree import DecisionTreeRegressor\n",
    "from sklearn.metrics import mean_absolute_error\n",
    "from sklearn.model_selection import train_test_split\n",
    "import pandas as pd"
   ]
  },
  {
   "cell_type": "markdown",
   "metadata": {},
   "source": [
    "\n",
    "# Leitura dos dados"
   ]
  },
  {
   "cell_type": "code",
   "execution_count": 2,
   "metadata": {},
   "outputs": [],
   "source": [
    "with h5py.File('D:\\\\Universidade\\\\UFC\\\\GTEL\\\\dataset_rsrp-1.h5','r') as f :\n",
    "    rsrp = f['RSRP_cell'][()]\n",
    "    positions = f['positions'][()]"
   ]
  },
  {
   "cell_type": "markdown",
   "metadata": {},
   "source": [
    "# Criando arrays \n",
    "Precisamos fazer uma localização geográfica de cada dado latitudinal e longitudinal"
   ]
  },
  {
   "cell_type": "code",
   "execution_count": 3,
   "metadata": {},
   "outputs": [],
   "source": [
    "#criando arrays referentes às coordenadas\n",
    "base= 240000\n",
    "ref = 21\n",
    "lat = [0] * base\n",
    "long = [0] * base\n",
    "for i in range(base):\n",
    "    lat[i] = positions[i][0]\n",
    "for i in range(base):\n",
    "    long[i] = positions[i][1]"
   ]
  },
  {
   "cell_type": "markdown",
   "metadata": {},
   "source": [
    "# Predições\n",
    "A variável criada será o dado referencial comparativo ao problema,onde esta fará predições , análises do dataset. A varíavel 'predictions' armazena todo o dataset como uma matriz"
   ]
  },
  {
   "cell_type": "code",
   "execution_count": 4,
   "metadata": {},
   "outputs": [],
   "source": [
    "#inicializando uma matriz de zeros para armazenar as predições\n",
    "predictions = np.zeros((ref,base))"
   ]
  },
  {
   "cell_type": "markdown",
   "metadata": {},
   "source": [
    "# Dataframes\n",
    "Nessa tarefa escolhemos fazer uso de bibliotecas de Machine Learning que trabalham com dataframes em pandas, dessa forma usamos manipulação de arrays pra converter o dataset em pandas."
   ]
  },
  {
   "cell_type": "code",
   "execution_count": 14,
   "metadata": {},
   "outputs": [],
   "source": [
    "#criando um Dataframe e um modelo para cada uma das 21 estações\n",
    "for j in range(ref):\n",
    "    signal = [0]*base\n",
    "    for i in range(base):\n",
    "        signal[i] = rsrp[j][i]\n",
    "    #gerando um Dataframe 3x3 referente a estação j\n",
    "    data = pd.DataFrame({'Sinal': list(signal), 'X': list(lat), 'Y': list(long)}, columns=['Sinal', 'X', 'Y'])\n",
    "    "
   ]
  },
  {
   "cell_type": "markdown",
   "metadata": {},
   "source": [
    "# Criação do modelo referencial\n",
    "O modelo trabalho escolhido foi DecisionTreeRegressor , a variável que armazena todo o dataset original é a 'predictions' e apos aplicar o modelo 'DecisionTreeRegressor' , a variável 'predictions' torna-se o novo modelo de dataset, o qual usaremos pra cálculo do valor máximo de sinal"
   ]
  },
  {
   "cell_type": "code",
   "execution_count": 12,
   "metadata": {},
   "outputs": [
    {
     "ename": "IndentationError",
     "evalue": "unexpected indent (<ipython-input-12-462542cb699b>, line 2)",
     "output_type": "error",
     "traceback": [
      "\u001b[1;36m  File \u001b[1;32m\"<ipython-input-12-462542cb699b>\"\u001b[1;36m, line \u001b[1;32m2\u001b[0m\n\u001b[1;33m    y = data.signal\u001b[0m\n\u001b[1;37m    ^\u001b[0m\n\u001b[1;31mIndentationError\u001b[0m\u001b[1;31m:\u001b[0m unexpected indent\n"
     ]
    }
   ],
   "source": [
    "#gerando um modelo referente a estação j\n",
    "    y = data.signal\n",
    "    data_features = ['X', 'Y']\n",
    "    X = data[data_features]\n",
    "    train_X, val_X, train_y, val_y = train_test_split(X, y, random_state = 0)\n",
    "    model = DecisionTreeRegressor()\n",
    "    model.fit(train_X,train_y)\n",
    "    preds = model.predict(X)\n",
    "    #armazenando as predições feitas pelo modelo em relação a estação j na matriz de predições\n",
    "    for c in range(base):\n",
    "        predictions[j][c] = preds[c]"
   ]
  },
  {
   "cell_type": "markdown",
   "metadata": {},
   "source": [
    "# Resposta do modelo\n",
    "Após o teste do modelo aplicado juntamentos com suas predições calculamos e imprimimos o valor máximo do sinal recebido e a qual estação este  se refere."
   ]
  },
  {
   "cell_type": "code",
   "execution_count": 7,
   "metadata": {},
   "outputs": [
    {
     "name": "stdout",
     "output_type": "stream",
     "text": [
      "Digite o instante t: \n",
      "2\n",
      "Para K = 32.0 | Estação 1 | Sinal recebido = 0.0\n",
      "Para K = 64.0 | Estação 1 | Sinal recebido = 0.0\n",
      "Para K = 128.0 | Estação 1 | Sinal recebido = 0.0\n",
      "Para K = 256.0 | Estação 1 | Sinal recebido = 0.0\n",
      "Para K = 512.0 | Estação 1 | Sinal recebido = 0.0\n"
     ]
    }
   ],
   "source": [
    "#solicitando o valor do instante t\n",
    "t = int(input(\"Digite o instante t: \\n\"))\n",
    "#inicializando o valor de K (multiplicado por 2 pois cada K é em ms enquanto que as predições estão com um passo de 0.5 ms)\n",
    "K = 64\n",
    "for i in range (5):\n",
    "    print(\"Para K =\", K/2, \"| Estação\", predictions.argmax(axis=0)[t+K-1] + 1,\"| Sinal recebido =\", predictions.max(axis=0)[t+K-1])\n",
    "    #atualizand o valor de K\n",
    "    K = 2*K"
   ]
  },
  {
   "cell_type": "code",
   "execution_count": null,
   "metadata": {},
   "outputs": [],
   "source": []
  }
 ],
 "metadata": {
  "kernelspec": {
   "display_name": "Python 3",
   "language": "python",
   "name": "python3"
  },
  "language_info": {
   "codemirror_mode": {
    "name": "ipython",
    "version": 3
   },
   "file_extension": ".py",
   "mimetype": "text/x-python",
   "name": "python",
   "nbconvert_exporter": "python",
   "pygments_lexer": "ipython3",
   "version": "3.7.4"
  }
 },
 "nbformat": 4,
 "nbformat_minor": 4
}
